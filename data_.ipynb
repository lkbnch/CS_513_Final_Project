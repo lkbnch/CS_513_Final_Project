{
 "cells": [
  {
   "cell_type": "code",
   "execution_count": 2,
   "id": "252d635c",
   "metadata": {},
   "outputs": [],
   "source": [
    "# import pandas as pd\n",
    "\n",
    "# # Step 1: Define the desired columns from game_plays.csv (first 8)\n",
    "# plays_cols = [\n",
    "#     'play_id', 'game_id', 'team_id_for', 'team_id_against',\n",
    "#     'event', 'secondaryType', 'x', 'y'\n",
    "# ]\n",
    "\n",
    "# # Step 2: Load ONLY the first 50,000 rows of game_plays.csv with the specified columns\n",
    "# game_plays = pd.read_csv('game_plays.csv', usecols=plays_cols, nrows=50000)\n",
    "\n",
    "# # Filter to only include game_ids starting with '2016'\n",
    "# game_plays = game_plays[game_plays['game_id'].astype(str).str.startswith('2016')]\n",
    "\n",
    "# # Step 3: Define the exact columns from game_teams_stats.csv to keep\n",
    "# team_stats_cols = [\n",
    "#     'game_id', 'team_id', 'HoA',\n",
    "#     'shots', 'hits', 'pim', 'powerPlayOpportunities', 'powerPlayGoals',\n",
    "#     'faceOffWinPercentage', 'giveaways', 'takeaways', 'blocked', 'startRinkSide'\n",
    "# ]\n",
    "\n",
    "# # Step 4: Load filtered game_teams_stats.csv\n",
    "# game_teams_stats = pd.read_csv('game_teams_stats.csv', usecols=team_stats_cols)\n",
    "\n",
    "# # Also filter team stats to match 2016 games only\n",
    "# game_teams_stats = game_teams_stats[game_teams_stats['game_id'].astype(str).str.startswith('2016')]\n",
    "\n",
    "# # Step 5: Merge on 'game_id'\n",
    "# merged = pd.merge(game_plays, game_teams_stats, on='game_id', how='left')\n",
    "\n",
    "# # Step 6: Save to CSV\n",
    "# merged.to_csv('merged_filtered_output_2016_50k.csv', index=False)\n"
   ]
  },
  {
   "cell_type": "code",
   "execution_count": 3,
   "id": "f57034a1",
   "metadata": {},
   "outputs": [
    {
     "name": "stdout",
     "output_type": "stream",
     "text": [
      "freaky ahh\n"
     ]
    }
   ],
   "source": [
    "print('freaky ahh')"
   ]
  }
 ],
 "metadata": {
  "kernelspec": {
   "display_name": "Python 3",
   "language": "python",
   "name": "python3"
  },
  "language_info": {
   "codemirror_mode": {
    "name": "ipython",
    "version": 3
   },
   "file_extension": ".py",
   "mimetype": "text/x-python",
   "name": "python",
   "nbconvert_exporter": "python",
   "pygments_lexer": "ipython3",
   "version": "3.12.2"
  }
 },
 "nbformat": 4,
 "nbformat_minor": 5
}
