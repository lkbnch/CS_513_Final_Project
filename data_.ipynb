{
 "cells": [
  {
   "cell_type": "code",
   "execution_count": null,
   "id": "252d635c",
   "metadata": {},
   "outputs": [],
   "source": [
    "import pandas as pd\n",
    "\n",
    "# Load datasets\n",
    "team_stats_df = pd.read_csv(\"game_teams_stats.csv\")\n",
    "plays_df = pd.read_csv(\"game_plays.csv\")  # Replace with your actual path\n",
    "\n",
    "# Filter shots and goals only\n",
    "shots_df = plays_df[plays_df['event'].isin(['Shot', 'Goal'])].copy()\n",
    "\n",
    "# Add a close-range shot flag (example: x coordinate within 30 units of net)\n",
    "shots_df['close_range'] = shots_df['x'].abs() < 30\n",
    "\n",
    "# Aggregate shot data per team per game\n",
    "agg_df = shots_df.groupby(['game_id', 'team_id_for']).agg({\n",
    "    'x': 'mean',\n",
    "    'y': 'mean',\n",
    "    'close_range': 'sum',\n",
    "    'secondaryType': lambda s: s.value_counts().to_dict()\n",
    "}).reset_index()\n",
    "\n",
    "# Rename coordinates\n",
    "agg_df.rename(columns={'x': 'avg_shot_x', 'y': 'avg_shot_y'}, inplace=True)\n",
    "\n",
    "# Extract specific shot types\n",
    "for shot_type in ['Wrist Shot', 'Backhand', 'Slap Shot', 'Tip-In']:\n",
    "    agg_df[f'num_{shot_type.lower().replace(\" \", \"_\")}'] = agg_df['secondaryType'].apply(lambda d: d.get(shot_type, 0))\n",
    "\n",
    "agg_df.drop(columns='secondaryType', inplace=True)\n",
    "\n",
    "# Prepare team stats data (drop duplicates)\n",
    "team_stats_df = team_stats_df.drop_duplicates(subset=['game_id', 'team_id'])\n",
    "\n",
    "# Merge with team stats\n",
    "merged_df = team_stats_df.merge(\n",
    "    agg_df,\n",
    "    left_on=['game_id', 'team_id'],\n",
    "    right_on=['game_id', 'team_id_for'],\n",
    "    how='left'\n",
    ")\n",
    "\n",
    "# Clean up\n",
    "merged_df.drop(columns=['team_id_for'], inplace=True)\n",
    "\n",
    "# Save to CSV if needed\n",
    "merged_df.to_csv(\"merged_with_event_features.csv\", index=False)\n"
   ]
  },
  {
   "cell_type": "code",
   "execution_count": null,
   "id": "f57034a1",
   "metadata": {},
   "outputs": [],
   "source": [
    "print('freaky ahh')"
   ]
  },
  {
   "cell_type": "code",
   "execution_count": null,
   "id": "f29fdd47",
   "metadata": {},
   "outputs": [],
   "source": [
    "# Name : \n",
    "# Assignment Number & Name : EDA - NHL Win Classification\n",
    "# I pledge my honor that I have abided by the Stevens Honor System.\n",
    "\n",
    "import pandas as pd\n",
    "import numpy as np\n",
    "import matplotlib.pyplot as plt\n",
    "import seaborn as sns\n",
    "\n",
    "# Load the NHL dataset\n",
    "file_path = 'merged_with_won.csv'\n",
    "df = pd.read_csv(file_path)\n",
    "\n",
    "# Filter: drop unneeded columns and keep only one row per team per game\n",
    "df = df.drop(columns=['game_id', 'team_id_for', 'team_id_against', 'play_id', 'event', 'secondaryType', 'startRinkSide'], errors='ignore')\n",
    "df = df.dropna(subset=['won'])\n",
    "df['won'] = df['won'].astype(int)\n",
    "\n",
    "# Keep only numeric columns for correlation\n",
    "numeric_only = df.select_dtypes(include='number')\n",
    "\n",
    "# Show summary statistics\n",
    "print(numeric_only.describe())\n",
    "df.head()\n"
   ]
  },
  {
   "cell_type": "code",
   "execution_count": null,
   "id": "63ef2a58",
   "metadata": {},
   "outputs": [],
   "source": [
    "# Select only relevant performance features (exclude identifiers and play coords)\n",
    "features = ['shots', 'hits', 'pim', 'powerPlayOpportunities', 'powerPlayGoals',\n",
    "            'faceOffWinPercentage', 'giveaways', 'takeaways', 'blocked', 'won']\n",
    "corr_df = df[features]\n",
    "\n",
    "# Plot corrected heatmap\n",
    "plt.figure(figsize=(12, 8))\n",
    "sns.heatmap(corr_df.corr(), annot=True, fmt=\".2f\", cmap='coolwarm')\n",
    "plt.title(\"Correlation Heatmap (Cleaned Features Only)\")\n",
    "plt.tight_layout()\n",
    "plt.show()\n"
   ]
  },
  {
   "cell_type": "code",
   "execution_count": null,
   "id": "44acf1bc",
   "metadata": {},
   "outputs": [],
   "source": [
    "# Win Distribution (per team)\n",
    "sns.countplot(data=df, x='won')\n",
    "plt.title(\"Win Distribution per Team\")\n",
    "plt.xlabel(\"Won (1 = Yes, 0 = No)\")\n",
    "plt.ylabel(\"Team Count\")\n",
    "plt.tight_layout()\n",
    "plt.show()\n"
   ]
  },
  {
   "cell_type": "code",
   "execution_count": null,
   "id": "d2185468",
   "metadata": {},
   "outputs": [],
   "source": [
    "# Boxplots: team-level stats vs won\n",
    "features = ['shots', 'hits', 'pim', 'powerPlayGoals', 'faceOffWinPercentage', 'giveaways', 'takeaways', 'blocked']\n",
    "for f in features:\n",
    "    plt.figure(figsize=(6, 4))\n",
    "    sns.boxplot(data=df, x='won', y=f)\n",
    "    plt.title(f\"{f} vs Win (Per Team)\")\n",
    "    plt.tight_layout()\n",
    "    plt.show()\n"
   ]
  },
  {
   "cell_type": "code",
   "execution_count": null,
   "id": "1aa21538",
   "metadata": {},
   "outputs": [],
   "source": []
  }
 ],
 "metadata": {
  "kernelspec": {
   "display_name": "Python 3",
   "language": "python",
   "name": "python3"
  },
  "language_info": {
   "codemirror_mode": {
    "name": "ipython",
    "version": 3
   },
   "file_extension": ".py",
   "mimetype": "text/x-python",
   "name": "python",
   "nbconvert_exporter": "python",
   "pygments_lexer": "ipython3",
   "version": "3.12.2"
  }
 },
 "nbformat": 4,
 "nbformat_minor": 5
}
