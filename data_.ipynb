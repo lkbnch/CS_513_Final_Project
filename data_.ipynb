{
 "cells": [
  {
   "cell_type": "code",
   "execution_count": null,
   "id": "252d635c",
   "metadata": {},
   "outputs": [],
   "source": [
    "# import pandas as pd\n",
    "\n",
    "# # Step 1: Define the desired columns from game_plays.csv (first 8)\n",
    "# plays_cols = [\n",
    "#     'play_id', 'game_id', 'team_id_for', 'team_id_against',\n",
    "#     'event', 'secondaryType', 'x', 'y'\n",
    "# ]\n",
    "\n",
    "# # Step 2: Load ONLY the first 50,000 rows of game_plays.csv with the specified columns\n",
    "# game_plays = pd.read_csv('game_plays.csv', usecols=plays_cols, nrows=50000)\n",
    "\n",
    "# # Filter to only include game_ids starting with '2016'\n",
    "# game_plays = game_plays[game_plays['game_id'].astype(str).str.startswith('2016')]\n",
    "\n",
    "# # Step 3: Define the exact columns from game_teams_stats.csv to keep\n",
    "# team_stats_cols = [\n",
    "#     'game_id', 'team_id', 'HoA', 'won',\n",
    "#     'shots', 'hits', 'pim', 'powerPlayOpportunities', 'powerPlayGoals',\n",
    "#     'faceOffWinPercentage', 'giveaways', 'takeaways', 'blocked', 'startRinkSide'\n",
    "# ]\n",
    "\n",
    "# # Step 4: Load filtered game_teams_stats.csv\n",
    "# game_teams_stats = pd.read_csv('game_teams_stats.csv', usecols=team_stats_cols)\n",
    "\n",
    "# # Also filter team stats to match 2016 games only\n",
    "# game_teams_stats = game_teams_stats[game_teams_stats['game_id'].astype(str).str.startswith('2016')]\n",
    "\n",
    "# # Step 5: Merge on 'game_id'\n",
    "# merged = pd.merge(game_plays, game_teams_stats, on='game_id', how='left')\n",
    "\n",
    "# # Step 6: Save to CSV\n",
    "# merged.to_csv('merged_filtered_output_2016_50k.csv', index=False)\n"
   ]
  },
  {
   "cell_type": "code",
   "execution_count": null,
   "id": "f57034a1",
   "metadata": {},
   "outputs": [],
   "source": [
    "print('freaky ahh')"
   ]
  },
  {
   "cell_type": "code",
   "execution_count": null,
   "id": "f29fdd47",
   "metadata": {},
   "outputs": [],
   "source": [
    "# Name : Amanda Vu, Birva Patel, Nadeya De Diago, Vincent De Castro\n",
    "# Assignment Number & Name : EDA - NHL Win Classification\n",
    "# I pledge my honor that I have abided by the Stevens Honor System.\n",
    "\n",
    "import pandas as pd\n",
    "import numpy as np\n",
    "import matplotlib.pyplot as plt\n",
    "import seaborn as sns\n",
    "\n",
    "# Load the NHL dataset\n",
    "file_path = 'merged_with_won.csv'\n",
    "df = pd.read_csv(file_path)\n",
    "\n",
    "# Filter: drop unneeded columns and keep only one row per team per game\n",
    "df = df.drop(columns=['game_id', 'team_id_for', 'team_id_against', 'play_id', 'event', 'secondaryType', 'startRinkSide'], errors='ignore')\n",
    "df = df.dropna(subset=['won'])\n",
    "df['won'] = df['won'].astype(int)\n",
    "\n",
    "# Keep only numeric columns for correlation\n",
    "numeric_only = df.select_dtypes(include='number')\n",
    "\n",
    "# Show summary statistics\n",
    "print(numeric_only.describe())\n",
    "df.head()\n"
   ]
  },
  {
   "cell_type": "code",
   "execution_count": null,
   "id": "63ef2a58",
   "metadata": {},
   "outputs": [],
   "source": [
    "# Correlation Heatmap\n",
    "plt.figure(figsize=(12, 8))\n",
    "sns.heatmap(numeric_only.corr(), annot=True, fmt=\".2f\", cmap='coolwarm')\n",
    "plt.title(\"Correlation Heatmap (Per-Team Stats)\")\n",
    "plt.tight_layout()\n",
    "plt.show()\n"
   ]
  },
  {
   "cell_type": "code",
   "execution_count": null,
   "id": "44acf1bc",
   "metadata": {},
   "outputs": [],
   "source": [
    "# Win Distribution (per team)\n",
    "sns.countplot(data=df, x='won')\n",
    "plt.title(\"Win Distribution per Team\")\n",
    "plt.xlabel(\"Won (1 = Yes, 0 = No)\")\n",
    "plt.ylabel(\"Team Count\")\n",
    "plt.tight_layout()\n",
    "plt.show()\n"
   ]
  },
  {
   "cell_type": "code",
   "execution_count": null,
   "id": "d2185468",
   "metadata": {},
   "outputs": [],
   "source": [
    "# Boxplots: team-level stats vs won\n",
    "features = ['shots', 'hits', 'pim', 'powerPlayGoals', 'faceOffWinPercentage', 'giveaways', 'takeaways', 'blocked']\n",
    "for f in features:\n",
    "    plt.figure(figsize=(6, 4))\n",
    "    sns.boxplot(data=df, x='won', y=f)\n",
    "    plt.title(f\"{f} vs Win (Per Team)\")\n",
    "    plt.tight_layout()\n",
    "    plt.show()\n"
   ]
  },
  {
   "cell_type": "code",
   "execution_count": null,
   "id": "1aa21538",
   "metadata": {},
   "outputs": [],
   "source": []
  }
 ],
 "metadata": {
  "kernelspec": {
   "display_name": "Python 3",
   "language": "python",
   "name": "python3"
  },
  "language_info": {
   "codemirror_mode": {
    "name": "ipython",
    "version": 3
   },
   "file_extension": ".py",
   "mimetype": "text/x-python",
   "name": "python",
   "nbconvert_exporter": "python",
   "pygments_lexer": "ipython3",
   "version": "3.12.2"
  }
 },
 "nbformat": 4,
 "nbformat_minor": 5
}
