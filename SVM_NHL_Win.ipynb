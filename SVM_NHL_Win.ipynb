{
 "cells": [
  {
   "cell_type": "markdown",
   "id": "3fff3310",
   "metadata": {},
   "source": [
    "# Jacob Gurevich\n",
    "# 20006224\n",
    "# HW08 SVM - NHL Win Prediction\n",
    "# I pledge my honor that I have abided by the Stevens Honor System."
   ]
  },
  {
   "cell_type": "code",
   "execution_count": null,
   "id": "1eb75b90",
   "metadata": {},
   "outputs": [],
   "source": [
    "import pandas as pd\n",
    "import numpy as np\n",
    "import matplotlib.pyplot as plt\n",
    "import seaborn as sns\n",
    "\n",
    "from sklearn.preprocessing import StandardScaler\n",
    "from sklearn.model_selection import train_test_split\n",
    "from sklearn.svm import SVC\n",
    "from sklearn import metrics"
   ]
  },
  {
   "cell_type": "code",
   "execution_count": null,
   "id": "0345434b",
   "metadata": {},
   "outputs": [],
   "source": [
    "# Load the dataset\n",
    "df = pd.read_csv('merged_with_event_features.csv')\n",
    "\n",
    "# Convert 'HoA' to binary\n",
    "df['is_home'] = df['HoA'].map({'home': 1, 'away': 0})\n",
    "df.drop(columns=['game_id', 'team_id'], inplace=True, errors='ignore')\n",
    "\n",
    "# Feature list\n",
    "features = [\n",
    "    'shots', 'hits', 'pim', 'powerPlayGoals', 'faceOffWinPercentage',\n",
    "    'giveaways', 'takeaways', 'blocked', 'avg_shot_x', 'avg_shot_y',\n",
    "    'close_range', 'num_slap_shot', 'num_wrist_shot', 'won', 'num_backhand',\n",
    "    'num_tip-in', 'is_home']\n",
    "\n",
    "# Filter and clean data\n",
    "df = df[features].dropna()\n",
    "df['won'] = df['won'].astype(int)\n",
    "\n",
    "# Train-test split\n",
    "X = df.drop(columns='won')\n",
    "y = df['won']\n",
    "X_train, X_test, y_train, y_test = train_test_split(X, y, test_size=0.2, random_state=42, stratify=y)\n",
    "\n",
    "# Normalize features\n",
    "scaler = StandardScaler()\n",
    "X_train_scaled = scaler.fit_transform(X_train)\n",
    "X_test_scaled = scaler.transform(X_test)"
   ]
  },
  {
   "cell_type": "code",
   "execution_count": null,
   "id": "da2f8bd9",
   "metadata": {},
   "outputs": [],
   "source": [
    "# Train an SVM classifier\n",
    "svm = SVC(kernel='rbf', C=1.0, gamma='scale', probability=True, random_state=42)\n",
    "svm.fit(X_train_scaled, y_train)"
   ]
  },
  {
   "cell_type": "code",
   "execution_count": null,
   "id": "120e5488",
   "metadata": {},
   "outputs": [],
   "source": [
    "# Evaluate the SVM model\n",
    "y_pred = svm.predict(X_test_scaled)\n",
    "\n",
    "print(\"Accuracy:\", metrics.accuracy_score(y_test, y_pred))\n",
    "print(\"Confusion Matrix:\\n\", metrics.confusion_matrix(y_test, y_pred))\n",
    "print(\"Classification Report:\\n\", metrics.classification_report(y_test, y_pred))"
   ]
  },
  {
   "cell_type": "code",
   "execution_count": null,
   "id": "b20c031a",
   "metadata": {},
   "outputs": [],
   "source": [
    "# Visualize confusion matrix\n",
    "sns.heatmap(metrics.confusion_matrix(y_test, y_pred), annot=True, fmt='d', cmap='Blues')\n",
    "plt.title('SVM Confusion Matrix')\n",
    "plt.xlabel('Predicted')\n",
    "plt.ylabel('Actual')\n",
    "plt.show()"
   ]
  }
 ],
 "metadata": {},
 "nbformat": 4,
 "nbformat_minor": 5
}
