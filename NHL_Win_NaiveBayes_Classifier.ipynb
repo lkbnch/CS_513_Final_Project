{
 "cells": [
  {
   "cell_type": "code",
   "execution_count": 1,
   "id": "108f6bbd",
   "metadata": {},
   "outputs": [],
   "source": [
    "# Name : \n",
    "# Assignment Number & Name : Naive Bayes - NHL Win Classification\n",
    "# I pledge my honor that I have abided by the Stevens Honor System."
   ]
  },
  {
   "cell_type": "code",
   "execution_count": 2,
   "id": "ecc01bb1",
   "metadata": {},
   "outputs": [],
   "source": [
    "import pandas as pd\n",
    "import numpy as np\n",
    "from sklearn.model_selection import train_test_split\n",
    "from sklearn.preprocessing import StandardScaler\n",
    "from sklearn.naive_bayes import GaussianNB\n",
    "from sklearn.metrics import accuracy_score, confusion_matrix, classification_report"
   ]
  },
  {
   "cell_type": "code",
   "execution_count": 3,
   "id": "4f32af33",
   "metadata": {},
   "outputs": [],
   "source": [
    "# Load enhanced dataset\n",
    "df = pd.read_csv('merged_with_event_features.csv')\n",
    "\n",
    "# Drop rows with missing values in model features or target\n",
    "model_features = ['shots', 'hits', 'pim', 'powerPlayGoals', 'faceOffWinPercentage',\n",
    "                  'giveaways', 'takeaways', 'blocked', 'avg_shot_x', 'avg_shot_y',\n",
    "                  'num_close_range_shots', 'num_slap_shot', 'num_wrist_shot', 'won']\n",
    "df = df[model_features].dropna()\n",
    "\n",
    "# Ensure correct type\n",
    "df['won'] = df['won'].astype(int)\n",
    "\n",
    "# Features and target\n",
    "X = df.drop(columns='won')\n",
    "y = df['won']\n",
    "\n",
    "# Train-test split\n",
    "X_train, X_test, y_train, y_test = train_test_split(X, y, test_size=0.2, random_state=42)\n",
    "\n",
    "# Standardize the feature values\n",
    "scaler = StandardScaler()\n",
    "X_train_scaled = scaler.fit_transform(X_train)\n",
    "X_test_scaled = scaler.transform(X_test)\n"
   ]
  },
  {
   "cell_type": "code",
   "execution_count": 4,
   "id": "214799af",
   "metadata": {},
   "outputs": [],
   "source": [
    "# Train a Gaussian Naive Bayes classifier\n",
    "nb = GaussianNB()\n",
    "nb.fit(X_train_scaled, y_train)\n",
    "\n",
    "# Predict\n",
    "y_pred = nb.predict(X_test_scaled)"
   ]
  },
  {
   "cell_type": "code",
   "execution_count": 5,
   "id": "eac92f51",
   "metadata": {},
   "outputs": [
    {
     "name": "stdout",
     "output_type": "stream",
     "text": [
      "Accuracy: 0.6387785841435026\n",
      "Confusion Matrix:\n",
      " [[2164 1512]\n",
      " [1126 2501]]\n",
      "Classification Report:\n",
      "               precision    recall  f1-score   support\n",
      "\n",
      "           0       0.66      0.59      0.62      3676\n",
      "           1       0.62      0.69      0.65      3627\n",
      "\n",
      "    accuracy                           0.64      7303\n",
      "   macro avg       0.64      0.64      0.64      7303\n",
      "weighted avg       0.64      0.64      0.64      7303\n",
      "\n"
     ]
    }
   ],
   "source": [
    "# Evaluate the model\n",
    "print(\"Accuracy:\", accuracy_score(y_test, y_pred))\n",
    "print(\"Confusion Matrix:\\n\", confusion_matrix(y_test, y_pred))\n",
    "print(\"Classification Report:\\n\", classification_report(y_test, y_pred))"
   ]
  }
 ],
 "metadata": {
  "kernelspec": {
   "display_name": "Python 3",
   "language": "python",
   "name": "python3"
  },
  "language_info": {
   "codemirror_mode": {
    "name": "ipython",
    "version": 3
   },
   "file_extension": ".py",
   "mimetype": "text/x-python",
   "name": "python",
   "nbconvert_exporter": "python",
   "pygments_lexer": "ipython3",
   "version": "3.12.2"
  }
 },
 "nbformat": 4,
 "nbformat_minor": 5
}
