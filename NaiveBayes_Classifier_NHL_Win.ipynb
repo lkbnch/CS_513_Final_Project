{
  "metadata": {
    "kernelspec": {
      "name": "python",
      "display_name": "Python (Pyodide)",
      "language": "python"
    },
    "language_info": {
      "codemirror_mode": {
        "name": "python",
        "version": 3
      },
      "file_extension": ".py",
      "mimetype": "text/x-python",
      "name": "python",
      "nbconvert_exporter": "python",
      "pygments_lexer": "ipython3",
      "version": "3.8"
    }
  },
  "nbformat_minor": 5,
  "nbformat": 4,
  "cells": [
    {
      "id": "108f6bbd",
      "cell_type": "code",
      "source": "# Name : Dhihan Ahmed, Luke Bianchi, Jacob Gurevich\n# Assignment Number & Name : Naive Bayes - NHL Win Classification\n# I pledge my honor that I have abided by the Stevens Honor System.",
      "metadata": {
        "trusted": true
      },
      "outputs": [],
      "execution_count": 6
    },
    {
      "id": "ecc01bb1",
      "cell_type": "code",
      "source": "import pandas as pd\nimport numpy as np\nfrom sklearn.model_selection import train_test_split\nfrom sklearn.preprocessing import StandardScaler\nfrom sklearn.naive_bayes import GaussianNB\nfrom sklearn.metrics import accuracy_score, confusion_matrix, classification_report",
      "metadata": {
        "trusted": true
      },
      "outputs": [],
      "execution_count": 11
    },
    {
      "id": "4f32af33",
      "cell_type": "code",
      "source": "df = pd.read_csv('merged_with_event_features.csv')\ndf['is_home'] = df['HoA'].map({'home': 1, 'away': 0})\n# Drop rows with missing values in model features or target\nfeatures = ['shots', 'hits', 'pim', 'powerPlayGoals', 'faceOffWinPercentage',\n            'giveaways', 'takeaways', 'blocked', 'avg_shot_x', 'avg_shot_y',\n            'close_range', 'num_slap_shot', 'num_wrist_shot', 'won', 'num_backhand','num_slap_shot','num_tip-in', 'is_home']\ndf = df[features].dropna()\n\n# Ensure correct type\ndf['won'] = df['won'].astype(int)\n\n# Features and target\nX = df.drop(columns='won')\ny = df['won']\n\n# Train-test split\nX_train, X_test, y_train, y_test = train_test_split(X, y, test_size=0.2, random_state=42)\n\n# Standardize the feature values\nscaler = StandardScaler()\nX_train_scaled = scaler.fit_transform(X_train)\nX_test_scaled = scaler.transform(X_test)\n",
      "metadata": {
        "trusted": true
      },
      "outputs": [],
      "execution_count": 12
    },
    {
      "id": "214799af",
      "cell_type": "code",
      "source": "# Train a Gaussian Naive Bayes classifier\nnb = GaussianNB()\nnb.fit(X_train_scaled, y_train)\n\n# Predict\ny_pred = nb.predict(X_test_scaled)",
      "metadata": {
        "trusted": true
      },
      "outputs": [],
      "execution_count": 13
    },
    {
      "id": "eac92f51",
      "cell_type": "code",
      "source": "# Evaluate the model\nprint(\"Accuracy:\", accuracy_score(y_test, y_pred))\nprint(\"Confusion Matrix:\\n\", confusion_matrix(y_test, y_pred))\nprint(\"Classification Report:\\n\", classification_report(y_test, y_pred))",
      "metadata": {
        "trusted": true
      },
      "outputs": [
        {
          "name": "stdout",
          "output_type": "stream",
          "text": "Accuracy: 0.6433299899699098\nConfusion Matrix:\n [[1813  714]\n [1064 1394]]\nClassification Report:\n               precision    recall  f1-score   support\n\n           0       0.63      0.72      0.67      2527\n           1       0.66      0.57      0.61      2458\n\n    accuracy                           0.64      4985\n   macro avg       0.65      0.64      0.64      4985\nweighted avg       0.65      0.64      0.64      4985\n\n"
        }
      ],
      "execution_count": 14
    }
  ]
}