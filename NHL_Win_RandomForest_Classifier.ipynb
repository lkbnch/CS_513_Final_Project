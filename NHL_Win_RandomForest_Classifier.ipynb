{
 "cells": [
  {
   "cell_type": "code",
   "execution_count": 1,
   "id": "60837f60",
   "metadata": {},
   "outputs": [],
   "source": [
    "import pandas as pd\n",
    "from sklearn.model_selection import train_test_split\n",
    "from sklearn.tree import DecisionTreeClassifier\n",
    "from sklearn.ensemble import RandomForestClassifier\n",
    "clf = DecisionTreeClassifier(criterion='entropy', max_depth=3)\n",
    "from sklearn.metrics import confusion_matrix, classification_report, accuracy_score\n",
    "import seaborn as sns\n",
    "import matplotlib.pyplot as plt\n",
    "from sklearn.tree import plot_tree\n",
    "import numpy as np"
   ]
  },
  {
   "cell_type": "code",
   "execution_count": 2,
   "id": "92a1de5e",
   "metadata": {},
   "outputs": [
    {
     "name": "stdout",
     "output_type": "stream",
     "text": [
      "              play_id     game_id  team_id_for_x  team_id_against  \\\n",
      "0        2016020045_1  2016020045            NaN              NaN   \n",
      "1        2016020045_1  2016020045            NaN              NaN   \n",
      "598     2016020610_62  2016020610            NaN              NaN   \n",
      "599     2016020610_62  2016020610            NaN              NaN   \n",
      "1266   2016020298_157  2016020298            NaN              NaN   \n",
      "...               ...         ...            ...              ...   \n",
      "34009  2016020306_254  2016020306            NaN              NaN   \n",
      "36266  2016020991_153  2016020991            NaN              NaN   \n",
      "36267  2016020991_153  2016020991            NaN              NaN   \n",
      "36524  2016020843_251  2016020843            NaN              NaN   \n",
      "36525  2016020843_251  2016020843            NaN              NaN   \n",
      "\n",
      "                event secondaryType   x   y  team_id   HoA  ...  \\\n",
      "0      Game Scheduled           NaN NaN NaN        4  away  ...   \n",
      "1      Game Scheduled           NaN NaN NaN       16  home  ...   \n",
      "598          Stoppage           NaN NaN NaN       15  away  ...   \n",
      "599          Stoppage           NaN NaN NaN        8  home  ...   \n",
      "1266         Stoppage           NaN NaN NaN        2  away  ...   \n",
      "...               ...           ...  ..  ..      ...   ...  ...   \n",
      "34009        Stoppage           NaN NaN NaN       15  home  ...   \n",
      "36266        Stoppage           NaN NaN NaN        9  away  ...   \n",
      "36267        Stoppage           NaN NaN NaN       53  home  ...   \n",
      "36524        Stoppage           NaN NaN NaN       10  away  ...   \n",
      "36525        Stoppage           NaN NaN NaN       29  home  ...   \n",
      "\n",
      "       startRinkSide    won  team_id_for_y  avg_shot_x  avg_shot_y  \\\n",
      "0               left  False            4.0   17.962963   -5.296296   \n",
      "1               left   True           16.0  -10.392857   -2.857143   \n",
      "598             left   True           15.0    6.564103   -4.282051   \n",
      "599             left  False            8.0  -20.173913   -2.521739   \n",
      "1266            left  False            2.0   18.375000    2.541667   \n",
      "...              ...    ...            ...         ...         ...   \n",
      "34009           left   True            NaN         NaN         NaN   \n",
      "36266          right   True            9.0  -63.500000  -13.333333   \n",
      "36267          right  False           53.0   61.375000   -3.125000   \n",
      "36524          right  False            NaN         NaN         NaN   \n",
      "36525          right   True            NaN         NaN         NaN   \n",
      "\n",
      "       num_close_range_shots  num_slap_shot  num_wrist_shot  num_backhand  \\\n",
      "0                        0.0            6.0            36.0           6.0   \n",
      "1                        0.0           14.0            32.0           6.0   \n",
      "598                      4.0           16.0            50.0           8.0   \n",
      "599                      2.0            4.0            22.0           6.0   \n",
      "1266                     4.0            4.0            32.0           2.0   \n",
      "...                      ...            ...             ...           ...   \n",
      "34009                    NaN            NaN             NaN           NaN   \n",
      "36266                    0.0            0.0             6.0           4.0   \n",
      "36267                    0.0            2.0            12.0           2.0   \n",
      "36524                    NaN            NaN             NaN           NaN   \n",
      "36525                    NaN            NaN             NaN           NaN   \n",
      "\n",
      "      num_tip-in  \n",
      "0            4.0  \n",
      "1            0.0  \n",
      "598          2.0  \n",
      "599          4.0  \n",
      "1266         0.0  \n",
      "...          ...  \n",
      "34009        NaN  \n",
      "36266        2.0  \n",
      "36267        0.0  \n",
      "36524        NaN  \n",
      "36525        NaN  \n",
      "\n",
      "[128 rows x 29 columns]\n",
      "<class 'pandas.core.frame.DataFrame'>\n",
      "Index: 128 entries, 0 to 36525\n",
      "Data columns (total 29 columns):\n",
      " #   Column                  Non-Null Count  Dtype  \n",
      "---  ------                  --------------  -----  \n",
      " 0   play_id                 128 non-null    object \n",
      " 1   game_id                 128 non-null    int64  \n",
      " 2   team_id_for_x           6 non-null      float64\n",
      " 3   team_id_against         6 non-null      float64\n",
      " 4   event                   128 non-null    object \n",
      " 5   secondaryType           0 non-null      object \n",
      " 6   x                       6 non-null      float64\n",
      " 7   y                       6 non-null      float64\n",
      " 8   team_id                 128 non-null    int64  \n",
      " 9   HoA                     128 non-null    object \n",
      " 10  shots                   128 non-null    float64\n",
      " 11  hits                    128 non-null    float64\n",
      " 12  pim                     128 non-null    float64\n",
      " 13  powerPlayOpportunities  128 non-null    float64\n",
      " 14  powerPlayGoals          128 non-null    float64\n",
      " 15  faceOffWinPercentage    128 non-null    float64\n",
      " 16  giveaways               128 non-null    float64\n",
      " 17  takeaways               128 non-null    float64\n",
      " 18  blocked                 128 non-null    float64\n",
      " 19  startRinkSide           128 non-null    object \n",
      " 20  won                     128 non-null    bool   \n",
      " 21  team_id_for_y           114 non-null    float64\n",
      " 22  avg_shot_x              114 non-null    float64\n",
      " 23  avg_shot_y              114 non-null    float64\n",
      " 24  num_close_range_shots   114 non-null    float64\n",
      " 25  num_slap_shot           114 non-null    float64\n",
      " 26  num_wrist_shot          114 non-null    float64\n",
      " 27  num_backhand            114 non-null    float64\n",
      " 28  num_tip-in              114 non-null    float64\n",
      "dtypes: bool(1), float64(21), int64(2), object(5)\n",
      "memory usage: 29.1+ KB\n"
     ]
    }
   ],
   "source": [
    "# Load NHL dataset\n",
    "df = pd.read_csv('merged_with_event_features.csv')\n",
    "\n",
    "# Drop duplicates based on game_id and team_id\n",
    "df = df.drop_duplicates(subset=['game_id', 'team_id'])\n",
    "\n",
    "# Show missing values\n",
    "print(df[df.isna().any(axis=1)])\n",
    "df.info()"
   ]
  },
  {
   "cell_type": "code",
   "execution_count": null,
   "id": "faf5ff73",
   "metadata": {},
   "outputs": [
    {
     "name": "stdout",
     "output_type": "stream",
     "text": [
      "<class 'pandas.core.frame.DataFrame'>\n",
      "Index: 128 entries, 0 to 36525\n",
      "Data columns (total 14 columns):\n",
      " #   Column                 Non-Null Count  Dtype  \n",
      "---  ------                 --------------  -----  \n",
      " 0   shots                  128 non-null    float64\n",
      " 1   hits                   128 non-null    float64\n",
      " 2   pim                    128 non-null    float64\n",
      " 3   powerPlayGoals         128 non-null    float64\n",
      " 4   faceOffWinPercentage   128 non-null    float64\n",
      " 5   giveaways              128 non-null    float64\n",
      " 6   takeaways              128 non-null    float64\n",
      " 7   blocked                128 non-null    float64\n",
      " 8   avg_shot_x             114 non-null    float64\n",
      " 9   avg_shot_y             114 non-null    float64\n",
      " 10  num_close_range_shots  114 non-null    float64\n",
      " 11  num_slap_shot          114 non-null    float64\n",
      " 12  num_wrist_shot         114 non-null    float64\n",
      " 13  won                    128 non-null    bool   \n",
      "dtypes: bool(1), float64(13)\n",
      "memory usage: 14.1 KB\n",
      "<class 'pandas.core.frame.DataFrame'>\n",
      "Index: 128 entries, 0 to 36525\n",
      "Empty DataFrame\n"
     ]
    }
   ],
   "source": [
    "\n",
    "df['is_home'] = df['HoA'].map({'home': 1, 'away': 0})\n",
    "\n",
    "# Define feature list\n",
    "features = ['shots', 'hits', 'pim', 'powerPlayGoals', 'faceOffWinPercentage',\n",
    "            'giveaways', 'takeaways', 'blocked', 'avg_shot_x', 'avg_shot_y',\n",
    "            'close_range', 'num_slap_shot', 'num_wrist_shot', 'won', 'num_backhand','num_slap_shot','num_tip-in', 'is_home']\n",
    "\n",
    "df = df[features]\n",
    "df_num = df.select_dtypes(exclude='object')\n",
    "df_obj = df.select_dtypes(include='object')\n",
    "\n",
    "df_num.info()\n",
    "df_obj.info()"
   ]
  },
  {
   "cell_type": "code",
   "execution_count": 4,
   "id": "775cdb9d",
   "metadata": {},
   "outputs": [
    {
     "data": {
      "text/plain": [
       "won\n",
       "0    57\n",
       "1    57\n",
       "Name: count, dtype: int64"
      ]
     },
     "execution_count": 4,
     "metadata": {},
     "output_type": "execute_result"
    }
   ],
   "source": [
    "# Drop NA values and check class distribution\n",
    "df = df.dropna()\n",
    "df['won'] = df['won'].astype(int)\n",
    "df['won'].value_counts()"
   ]
  },
  {
   "cell_type": "code",
   "execution_count": 5,
   "id": "0418d860",
   "metadata": {},
   "outputs": [],
   "source": [
    "# Define attributes and target, split data\n",
    "X = df.drop('won', axis=1)\n",
    "y = df['won']\n",
    "\n",
    "X_train, X_test, y_train, y_test = train_test_split(X, y, test_size=0.2, random_state=42, stratify=y)"
   ]
  },
  {
   "cell_type": "code",
   "execution_count": 6,
   "id": "ccb01acc",
   "metadata": {},
   "outputs": [],
   "source": [
    "# Train Random Forest\n",
    "rf = RandomForestClassifier(n_estimators=100, random_state=42)\n",
    "rf.fit(X_train, y_train)\n",
    "\n",
    "# Predict\n",
    "y_pred = rf.predict(X_test)"
   ]
  },
  {
   "cell_type": "code",
   "execution_count": 7,
   "id": "8df71ef1",
   "metadata": {},
   "outputs": [
    {
     "name": "stdout",
     "output_type": "stream",
     "text": [
      "Accuracy: 0.5217391304347826\n",
      "Confusion Matrix:\n",
      "[[7 5]\n",
      " [6 5]]\n",
      "Classification Report:\n",
      "              precision    recall  f1-score   support\n",
      "\n",
      "           0       0.54      0.58      0.56        12\n",
      "           1       0.50      0.45      0.48        11\n",
      "\n",
      "    accuracy                           0.52        23\n",
      "   macro avg       0.52      0.52      0.52        23\n",
      "weighted avg       0.52      0.52      0.52        23\n",
      "\n"
     ]
    }
   ],
   "source": [
    "# Evaluate model\n",
    "print(\"Accuracy:\", accuracy_score(y_test, y_pred))\n",
    "print(\"Confusion Matrix:\")\n",
    "print(confusion_matrix(y_test, y_pred))\n",
    "print(\"Classification Report:\")\n",
    "print(classification_report(y_test, y_pred))"
   ]
  },
  {
   "cell_type": "code",
   "execution_count": 8,
   "id": "9fd93f47",
   "metadata": {},
   "outputs": [
    {
     "data": {
      "image/png": "[encoded data removed]",
      "text/plain": [
       "<Figure size 1000x600 with 1 Axes>"
      ]
     },
     "metadata": {},
     "output_type": "display_data"
    }
   ],
   "source": [
    "# Plot feature importances\n",
    "importances = rf.feature_importances_\n",
    "indices = np.argsort(importances)[::-1]\n",
    "\n",
    "plt.figure(figsize=(10,6))\n",
    "sns.barplot(x=importances[indices], y=X.columns[indices])\n",
    "plt.title(\"Feature Importances from Random Forest\")\n",
    "plt.tight_layout()\n",
    "plt.show()"
   ]
  }
 ],
 "metadata": {
  "kernelspec": {
   "display_name": "Python 3",
   "language": "python",
   "name": "python3"
  },
  "language_info": {
   "codemirror_mode": {
    "name": "ipython",
    "version": 3
   },
   "file_extension": ".py",
   "mimetype": "text/x-python",
   "name": "python",
   "nbconvert_exporter": "python",
   "pygments_lexer": "ipython3",
   "version": "3.12.2"
  }
 },
 "nbformat": 4,
 "nbformat_minor": 5
}
